{
 "cells": [
  {
   "cell_type": "code",
   "execution_count": 1,
   "id": "08b2f143-4e88-4965-804c-fd790d15093e",
   "metadata": {},
   "outputs": [
    {
     "name": "stdout",
     "output_type": "stream",
     "text": [
      "Before 0\n",
      "1 9\n",
      "after 1\n",
      "2 42\n",
      "after 2\n",
      "3 12\n",
      "after 3\n",
      "4 3\n",
      "after 4\n",
      "5 74\n",
      "after 5\n",
      "6 15\n",
      "after 6\n"
     ]
    }
   ],
   "source": [
    "count = 0 \n",
    "print('Before', count)\n",
    "for thing in [9, 42, 12, 3, 74, 15]:\n",
    "    count = count + 1\n",
    "    print(count, thing)\n",
    "    print(\"after\", count)"
   ]
  },
  {
   "cell_type": "code",
   "execution_count": 2,
   "id": "206d3505-ca4d-4aed-b71b-98041a8ed7b6",
   "metadata": {},
   "outputs": [
    {
     "name": "stdout",
     "output_type": "stream",
     "text": [
      "before\n",
      "large number 41\n",
      "large number 73\n",
      "after\n"
     ]
    }
   ],
   "source": [
    "print ('before')\n",
    "for value in [9, 41, 12, 3, 73, 15]:\n",
    "    if value > 20:\n",
    "        print('large number', value)\n",
    "print('after')"
   ]
  },
  {
   "cell_type": "code",
   "execution_count": 3,
   "id": "68d2f217-0b4f-4503-8d7c-c07847d7109f",
   "metadata": {},
   "outputs": [
    {
     "name": "stdout",
     "output_type": "stream",
     "text": [
      "before\n",
      "AFter 9\n",
      "AFter 9\n",
      "AFter 9\n",
      "3 3\n",
      "AFter 3\n",
      "AFter 3\n",
      "AFter 3\n"
     ]
    }
   ],
   "source": [
    "smallest = None\n",
    "print ('before')\n",
    "for value in [9, 41, 12, 3, 73, 15]:\n",
    "    if smallest is None:\n",
    "        smallest = value\n",
    "    elif value < smallest:\n",
    "        smallest = value\n",
    "        print(smallest, value)\n",
    "    print('AFter', smallest)"
   ]
  },
  {
   "cell_type": "code",
   "execution_count": 4,
   "id": "c3b302fd-4aed-4397-a3b7-4d7764972c03",
   "metadata": {},
   "outputs": [
    {
     "name": "stdout",
     "output_type": "stream",
     "text": [
      "before 0 0\n",
      "1 9 9\n",
      "2 50 41\n",
      "3 62 12\n",
      "4 65 3\n",
      "5 139 74\n",
      "6 154 15\n",
      "6 154 25.666666666666668\n"
     ]
    }
   ],
   "source": [
    "count = 0\n",
    "sum = 0\n",
    "print('before', count, sum)\n",
    "for value in [9,41,12,3,74,15]:\n",
    "    count=count+1\n",
    "    sum=sum+value\n",
    "    print(count, sum, value)\n",
    "print(count, sum, sum/count)"
   ]
  },
  {
   "cell_type": "code",
   "execution_count": 5,
   "id": "f33cb5b3-81c2-456a-b057-6c5a6b9fe4e8",
   "metadata": {},
   "outputs": [
    {
     "name": "stdout",
     "output_type": "stream",
     "text": [
      "before\n",
      "largest number 41\n",
      "After\n",
      "largest number 74\n",
      "After\n"
     ]
    }
   ],
   "source": [
    "print ('before')\n",
    "for value in [9, 41, 12, 3, 74, 15]:\n",
    "    if value > 20:\n",
    "        print('largest number', value)\n",
    "        print('After')"
   ]
  },
  {
   "cell_type": "code",
   "execution_count": 6,
   "id": "4d12e3c7-480c-4bee-bc3b-8038531d7369",
   "metadata": {},
   "outputs": [
    {
     "name": "stdout",
     "output_type": "stream",
     "text": [
      "before False\n",
      "True 3\n",
      "After True\n"
     ]
    }
   ],
   "source": [
    "found = False\n",
    "print('before', found)\n",
    "for value in [9, 41, 12, 3, 74, 15]:\n",
    "    if value == 3:\n",
    "        found = True\n",
    "        print(found, value)\n",
    "        print('After', found)"
   ]
  },
  {
   "cell_type": "code",
   "execution_count": null,
   "id": "74b461f6-a873-4daa-9a8b-b94f2b609e83",
   "metadata": {},
   "outputs": [],
   "source": [
    "While loop"
   ]
  },
  {
   "cell_type": "code",
   "execution_count": 8,
   "id": "5731b9e6-a1d6-4bf7-ad83-f9d45769bd4d",
   "metadata": {},
   "outputs": [
    {
     "name": "stdout",
     "output_type": "stream",
     "text": [
      "not there yet, x=0\n",
      "x=1\n",
      "not there yet, x=1\n",
      "x=2\n",
      "not there yet, x=2\n",
      "x=3\n",
      "not there yet, x=3\n",
      "x=4\n",
      "not there yet, x=4\n",
      "x=5\n"
     ]
    }
   ],
   "source": [
    "x = 0\n",
    "while x < 5:\n",
    "    print(\"not there yet, x=\" + str(x))\n",
    "    x = x + 1\n",
    "    print(\"x=\" + str(x))"
   ]
  },
  {
   "cell_type": "code",
   "execution_count": 14,
   "id": "5283b9c9-5cab-4ce6-82b0-9a1590353a38",
   "metadata": {},
   "outputs": [],
   "source": [
    "x = 0\n",
    "while x > 10:\n",
    "    print(\"not there yet, x=\" + str(x))\n",
    "    x = x + 5\n",
    "    print(\"x=\" + str(x))"
   ]
  },
  {
   "cell_type": "code",
   "execution_count": 15,
   "id": "937a8663-ddbb-45d4-b901-97111b04756a",
   "metadata": {},
   "outputs": [],
   "source": [
    "x = 10\n",
    "while x < 5:\n",
    "    print(\"not there yet, x=\" + str(x))\n",
    "    x = x + 3\n",
    "    print(\"x=\" + str(x))"
   ]
  },
  {
   "cell_type": "code",
   "execution_count": 20,
   "id": "8c7cb8c1-3271-4e11-98a3-adb3de76ec9c",
   "metadata": {},
   "outputs": [],
   "source": [
    "def attempts(n):\n",
    "    x=1\n",
    "    while x <= n:\n",
    "        print(\"attempt\" + str(x))\n",
    "        x += 1\n",
    "        print(\"Done\")"
   ]
  },
  {
   "cell_type": "code",
   "execution_count": null,
   "id": "f003b0e5-7ca1-4953-a288-46d1d3600f4d",
   "metadata": {},
   "outputs": [],
   "source": []
  },
  {
   "cell_type": "code",
   "execution_count": null,
   "id": "7af361e3-4963-485f-9285-cdfc5125b808",
   "metadata": {},
   "outputs": [],
   "source": []
  }
 ],
 "metadata": {
  "kernelspec": {
   "display_name": "Python 3 (ipykernel)",
   "language": "python",
   "name": "python3"
  },
  "language_info": {
   "codemirror_mode": {
    "name": "ipython",
    "version": 3
   },
   "file_extension": ".py",
   "mimetype": "text/x-python",
   "name": "python",
   "nbconvert_exporter": "python",
   "pygments_lexer": "ipython3",
   "version": "3.9.7"
  }
 },
 "nbformat": 4,
 "nbformat_minor": 5
}
