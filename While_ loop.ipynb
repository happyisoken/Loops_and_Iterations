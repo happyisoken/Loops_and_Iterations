{
 "cells": [
  {
   "cell_type": "code",
   "execution_count": 3,
   "id": "dd80e93f-b099-41b1-be29-7e84264384fd",
   "metadata": {},
   "outputs": [
    {
     "name": "stdout",
     "output_type": "stream",
     "text": [
      "1\n"
     ]
    }
   ],
   "source": [
    "x = 1\n",
    "print(x)"
   ]
  },
  {
   "cell_type": "code",
   "execution_count": 12,
   "id": "bc380c3d-f042-42d9-929f-1630de27ff2c",
   "metadata": {},
   "outputs": [],
   "source": [
    "def attempts (n):\n",
    "    x=1\n",
    "    while x <= n:\n",
    "        print(\"Attempt\" + str(x))\n",
    "        x += 1\n",
    "        print(\"Done\")"
   ]
  },
  {
   "cell_type": "code",
   "execution_count": null,
   "id": "0e9c5b89-e769-412c-9a2c-751245054991",
   "metadata": {},
   "outputs": [],
   "source": [
    "while x % 2 == 0:\n",
    "    x = x/2\n",
    "    "
   ]
  },
  {
   "cell_type": "code",
   "execution_count": 11,
   "id": "19c68f12-8257-47fc-8b95-8a4217796ee9",
   "metadata": {},
   "outputs": [
    {
     "name": "stdout",
     "output_type": "stream",
     "text": [
      "infinite loop\n",
      "infinite loop\n",
      "infinite loop\n",
      "infinite loop\n",
      "infinite loop\n",
      "infinite loop\n",
      "infinite loop\n",
      "infinite loop\n",
      "infinite loop\n",
      "infinite loop\n"
     ]
    }
   ],
   "source": [
    "count = 0\n",
    "while True:\n",
    "    print('infinite loop')\n",
    "    count = count + 1\n",
    "    if count == 10:\n",
    "        break"
   ]
  },
  {
   "cell_type": "code",
   "execution_count": null,
   "id": "5f669735-3d61-4dc4-bf60-de80b38463ce",
   "metadata": {},
   "outputs": [],
   "source": []
  }
 ],
 "metadata": {
  "kernelspec": {
   "display_name": "Python 3 (ipykernel)",
   "language": "python",
   "name": "python3"
  },
  "language_info": {
   "codemirror_mode": {
    "name": "ipython",
    "version": 3
   },
   "file_extension": ".py",
   "mimetype": "text/x-python",
   "name": "python",
   "nbconvert_exporter": "python",
   "pygments_lexer": "ipython3",
   "version": "3.9.7"
  }
 },
 "nbformat": 4,
 "nbformat_minor": 5
}
