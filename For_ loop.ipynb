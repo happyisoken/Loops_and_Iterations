{
 "cells": [
  {
   "cell_type": "code",
   "execution_count": 1,
   "id": "487cdf99-9eca-4550-9f32-c633ffe093a0",
   "metadata": {},
   "outputs": [
    {
     "name": "stdout",
     "output_type": "stream",
     "text": [
      "DragonsVsWolves\n",
      "DragonsVsPanda\n",
      "DragonsVsUnicorns\n",
      "WolvesVsDragons\n",
      "WolvesVsPanda\n",
      "WolvesVsUnicorns\n",
      "PandaVsDragons\n",
      "PandaVsWolves\n",
      "PandaVsUnicorns\n",
      "UnicornsVsDragons\n",
      "UnicornsVsWolves\n",
      "UnicornsVsPanda\n"
     ]
    }
   ],
   "source": [
    "teams = [\"Dragons\", \"Wolves\", \"Panda\", \"Unicorns\"]\n",
    "for home_team in teams:\n",
    "    for away_team in teams:\n",
    "        if home_team != away_team:\n",
    "            print(home_team + \"Vs\" + away_team)"
   ]
  },
  {
   "cell_type": "code",
   "execution_count": 9,
   "id": "dc4c5f2d-fcc2-48f8-a949-c58191c9c882",
   "metadata": {},
   "outputs": [
    {
     "ename": "NameError",
     "evalue": "name 'product' is not defined",
     "output_type": "error",
     "traceback": [
      "\u001b[1;31m---------------------------------------------------------------------------\u001b[0m",
      "\u001b[1;31mNameError\u001b[0m                                 Traceback (most recent call last)",
      "\u001b[1;32m~\\AppData\\Local\\Temp/ipykernel_36228/2307664765.py\u001b[0m in \u001b[0;36m<module>\u001b[1;34m\u001b[0m\n\u001b[0;32m      1\u001b[0m \u001b[0mProduct\u001b[0m \u001b[1;33m=\u001b[0m \u001b[1;36m1\u001b[0m\u001b[1;33m\u001b[0m\u001b[1;33m\u001b[0m\u001b[0m\n\u001b[0;32m      2\u001b[0m \u001b[1;32mfor\u001b[0m \u001b[0mn\u001b[0m \u001b[1;32min\u001b[0m \u001b[0mrange\u001b[0m\u001b[1;33m(\u001b[0m\u001b[1;36m1\u001b[0m\u001b[1;33m,\u001b[0m\u001b[1;36m10\u001b[0m\u001b[1;33m)\u001b[0m\u001b[1;33m:\u001b[0m\u001b[1;33m\u001b[0m\u001b[1;33m\u001b[0m\u001b[0m\n\u001b[1;32m----> 3\u001b[1;33m     \u001b[0mproduct\u001b[0m \u001b[1;33m=\u001b[0m \u001b[0mproduct\u001b[0m\u001b[1;33m*\u001b[0m\u001b[0mn\u001b[0m\u001b[1;33m\u001b[0m\u001b[1;33m\u001b[0m\u001b[0m\n\u001b[0m\u001b[0;32m      4\u001b[0m     \u001b[0mprint\u001b[0m\u001b[1;33m(\u001b[0m\u001b[1;34m\"product\"\u001b[0m\u001b[1;33m)\u001b[0m\u001b[1;33m\u001b[0m\u001b[1;33m\u001b[0m\u001b[0m\n",
      "\u001b[1;31mNameError\u001b[0m: name 'product' is not defined"
     ]
    }
   ],
   "source": [
    "Product = 1\n",
    "for n in range(1,10):\n",
    "    product = product*n\n",
    "    print(\"product\")"
   ]
  },
  {
   "cell_type": "code",
   "execution_count": 10,
   "id": "460c0268-467c-4a61-901e-725a29b17b1d",
   "metadata": {},
   "outputs": [
    {
     "name": "stdout",
     "output_type": "stream",
     "text": [
      "0\n",
      "1\n",
      "2\n",
      "3\n",
      "4\n",
      "5\n",
      "6\n",
      "7\n",
      "8\n",
      "9\n",
      "10\n",
      "11\n",
      "12\n",
      "13\n",
      "14\n",
      "15\n",
      "16\n",
      "17\n",
      "18\n",
      "19\n",
      "20\n",
      "21\n",
      "22\n",
      "23\n",
      "24\n"
     ]
    }
   ],
   "source": [
    "for x in range(25):\n",
    "    print(x)"
   ]
  },
  {
   "cell_type": "code",
   "execution_count": 11,
   "id": "2ba13dbd-54b4-4664-b181-ec00eb4e1d57",
   "metadata": {},
   "outputs": [
    {
     "name": "stdout",
     "output_type": "stream",
     "text": [
      "25\n"
     ]
    }
   ],
   "source": [
    "for x in [25]:\n",
    "    print(x)"
   ]
  },
  {
   "cell_type": "code",
   "execution_count": 1,
   "id": "558c1cdc-2f12-4a51-84cc-c7503cff7000",
   "metadata": {},
   "outputs": [],
   "source": [
    "def greet_friends (friends):\n",
    "    for friend in friends:\n",
    "        print(\"Hi\" + friend)"
   ]
  },
  {
   "cell_type": "code",
   "execution_count": 2,
   "id": "b744c013-e4ec-4c00-9794-63768d59c274",
   "metadata": {},
   "outputs": [
    {
     "name": "stdout",
     "output_type": "stream",
     "text": [
      "HiTaylor\n",
      "HiLuisa\n",
      "HiJamaal\n",
      "HiEli\n"
     ]
    }
   ],
   "source": [
    "greet_friends([\"Taylor\", \"Luisa\", \"Jamaal\", \"Eli\"])"
   ]
  },
  {
   "cell_type": "code",
   "execution_count": 3,
   "id": "74e31f10-3f8c-4d22-a40a-48503c4a58fa",
   "metadata": {},
   "outputs": [
    {
     "name": "stdout",
     "output_type": "stream",
     "text": [
      "HiB\n",
      "Hia\n",
      "Hir\n",
      "Hir\n",
      "Hiy\n"
     ]
    }
   ],
   "source": [
    "greet_friends(\"Barry\")"
   ]
  },
  {
   "cell_type": "code",
   "execution_count": 4,
   "id": "631468cc-d094-47fe-80f1-23b156a585a7",
   "metadata": {},
   "outputs": [
    {
     "name": "stdout",
     "output_type": "stream",
     "text": [
      "HiM\n",
      "Hia\n",
      "Hir\n",
      "Hiy\n"
     ]
    }
   ],
   "source": [
    "greet_friends(\"Mary\")"
   ]
  },
  {
   "cell_type": "code",
   "execution_count": null,
   "id": "819362d6-335c-4926-b4cf-9d72254951b8",
   "metadata": {},
   "outputs": [],
   "source": []
  },
  {
   "cell_type": "code",
   "execution_count": null,
   "id": "06447752-a618-4876-985c-d87f5ac27122",
   "metadata": {},
   "outputs": [],
   "source": []
  }
 ],
 "metadata": {
  "kernelspec": {
   "display_name": "Python 3 (ipykernel)",
   "language": "python",
   "name": "python3"
  },
  "language_info": {
   "codemirror_mode": {
    "name": "ipython",
    "version": 3
   },
   "file_extension": ".py",
   "mimetype": "text/x-python",
   "name": "python",
   "nbconvert_exporter": "python",
   "pygments_lexer": "ipython3",
   "version": "3.9.7"
  }
 },
 "nbformat": 4,
 "nbformat_minor": 5
}
